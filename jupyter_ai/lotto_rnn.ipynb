{
 "cells": [
  {
   "cell_type": "code",
   "execution_count": 24,
   "id": "b236e681-bd11-4beb-9be5-17f32453712a",
   "metadata": {
    "colab": {
     "base_uri": "https://localhost:8080/",
     "height": 105
    },
    "executionInfo": {
     "elapsed": 37,
     "status": "ok",
     "timestamp": 1754618745861,
     "user": {
      "displayName": "ᅵᅵ (ll)",
      "userId": "00950168834296392189"
     },
     "user_tz": -540
    },
    "id": "b236e681-bd11-4beb-9be5-17f32453712a",
    "jupyter": {
     "source_hidden": true
    },
    "outputId": "d1e2e45a-a021-4f90-8225-655d7b3b7d26"
   },
   "outputs": [
    {
     "data": {
      "text/plain": [
       "\"\\njupyter notebook --generate-config\\njupyter notebook --generate-config # jupyter notebook\\njupyter lab --generate-config # jupyter lab\\n\\nc.NotebookApp.allow_origin = '*' # jupyter notebook\\nc.ServerApp.allow_origin = '*' # jupyter lab\\n\\n#c.NotebookApp.notebook_dir = '\\x08{시작 디렉토리}' # jupyter notebook\\n#c.SeverApp.notebook_dir = '\\x08{시작 디렉토리}' # jupyter lab\\n\\nc.NotebookApp.port = '자신이 사용할 포트' # jupyter notebook\\nc.ServerApp.port = '자신이 사용할 포트' # jupyter lab\\n\\n\\n#c.NotebookApp.open_browser = False # jupyter notebook\\n#c.ServerApp.open_browser = False # jupyter lab\\n\\n#토큰 없이 사용\\nc.ServerApp.token = ''\\nc.ServerApp.ip = '*'\\n\""
      ]
     },
     "execution_count": 24,
     "metadata": {},
     "output_type": "execute_result"
    }
   ],
   "source": [
    "\"\"\"\n",
    "jupyter notebook --generate-config\n",
    "jupyter notebook --generate-config # jupyter notebook\n",
    "jupyter lab --generate-config # jupyter lab\n",
    "\n",
    "c.NotebookApp.allow_origin = '*' # jupyter notebook\n",
    "c.ServerApp.allow_origin = '*' # jupyter lab\n",
    "\n",
    "#c.NotebookApp.notebook_dir = '\b{시작 디렉토리}' # jupyter notebook\n",
    "#c.SeverApp.notebook_dir = '\b{시작 디렉토리}' # jupyter lab\n",
    "\n",
    "c.NotebookApp.port = '자신이 사용할 포트' # jupyter notebook\n",
    "c.ServerApp.port = '자신이 사용할 포트' # jupyter lab\n",
    "\n",
    "\n",
    "#c.NotebookApp.open_browser = False # jupyter notebook\n",
    "#c.ServerApp.open_browser = False # jupyter lab\n",
    "\n",
    "#토큰 없이 사용\n",
    "c.ServerApp.token = ''\n",
    "c.ServerApp.ip = '*'\n",
    "\"\"\""
   ]
  },
  {
   "cell_type": "code",
   "execution_count": 25,
   "id": "dec36007-6a34-4002-86a8-0b935753afe7",
   "metadata": {
    "executionInfo": {
     "elapsed": 7,
     "status": "ok",
     "timestamp": 1754618745874,
     "user": {
      "displayName": "ᅵᅵ (ll)",
      "userId": "00950168834296392189"
     },
     "user_tz": -540
    },
    "id": "dec36007-6a34-4002-86a8-0b935753afe7"
   },
   "outputs": [],
   "source": [
    "import tensorflow as tf\n",
    "import numpy as np\n",
    "import seaborn as sns\n",
    "import matplotlib.pyplot as plt\n",
    "import pandas as pd\n",
    "import sklearn"
   ]
  },
  {
   "cell_type": "code",
   "execution_count": 26,
   "id": "6f4e2631-0631-4354-b569-46aacf18a2ee",
   "metadata": {
    "executionInfo": {
     "elapsed": 7,
     "status": "ok",
     "timestamp": 1754618745877,
     "user": {
      "displayName": "ᅵᅵ (ll)",
      "userId": "00950168834296392189"
     },
     "user_tz": -540
    },
    "id": "6f4e2631-0631-4354-b569-46aacf18a2ee"
   },
   "outputs": [],
   "source": [
    "#모듈러\n",
    "def readFileData(f_labels,f_strings):#csv 파일 reading and merge\n",
    "    df_list = []\n",
    "    for fp in f_strings:\n",
    "        df_list.append(pd.read_csv(fp,names=f_labels))\n",
    "    return pd.concat(df_list,axis=0)\n",
    "\n",
    "def createData_rnn(data_arr,time_step=4):# 20개(총갯수) 16번(반복회수) 반복\n",
    "    x_data = [];y_data = []\n",
    "    for i in range(len(data_arr)-time_step):\n",
    "        x_data.append(data_arr[i:time_step+i])\n",
    "        y_data.append(data_arr[time_step+i])\n",
    "    return np.array(x_data),np.array(y_data).reshape(-1,data_arr.shape[1])"
   ]
  },
  {
   "cell_type": "code",
   "execution_count": 27,
   "id": "a5f8d744-15cc-4c06-9a87-c2b155510632",
   "metadata": {
    "colab": {
     "base_uri": "https://localhost:8080/"
    },
    "executionInfo": {
     "elapsed": 15,
     "status": "ok",
     "timestamp": 1754618745918,
     "user": {
      "displayName": "ᅵᅵ (ll)",
      "userId": "00950168834296392189"
     },
     "user_tz": -540
    },
    "id": "a5f8d744-15cc-4c06-9a87-c2b155510632",
    "outputId": "6ea136e0-4b9f-4282-d4c6-62bcfbda0ee6",
    "scrolled": true
   },
   "outputs": [
    {
     "name": "stdout",
     "output_type": "stream",
     "text": [
      "     year_date      millis\n",
      "0   2025-08-02  1754092800\n",
      "1   2025-07-26  1753488000\n",
      "2   2025-07-19  1752883200\n",
      "3   2025-07-12  1752278400\n",
      "4   2025-07-05  1751673600\n",
      "..         ...         ...\n",
      "595 2003-01-04  1041638400\n",
      "596 2002-12-28  1041033600\n",
      "597 2002-12-21  1040428800\n",
      "598 2002-12-14  1039824000\n",
      "599 2002-12-07  1039219200\n",
      "\n",
      "[1183 rows x 2 columns]\n",
      "   year_date  num_1  num_2  num_3  num_4  num_5  num_6  num_7      millis\n",
      "0 2025-08-02      4     15     17     23     27     36     31  1754092800\n",
      "1 2025-07-26      1     13     21     25     28     31     22  1753488000\n",
      "2 2025-07-19      8     10     14     20     33     41     28  1752883200\n",
      "3 2025-07-12      6     12     18     37     40     41      3  1752278400\n",
      "4 2025-07-05      3     16     18     24     40     44     21  1751673600\n",
      "1754665200.0\n"
     ]
    }
   ],
   "source": [
    "#configure\n",
    "from datetime import datetime\n",
    "ROOT_PATH=\"d:\\\\\" #구글 ./ 윈도우 d:\\\n",
    "SEP=\"\\\\\"#web / 윈도우 \\\n",
    "TIME_STEP=48 #1년\n",
    "TRAIN_MODEL=\"LSTM\" # CONV,LSTM\n",
    "DATA_LABELS = [\"year_date\",\"num_1\",\"num_2\",\"num_3\",\"num_4\",\"num_5\",\"num_6\",\"num_7\"]\n",
    "FILE_PATH = r'{}lotto_number{}chapter_1.csv'.format(ROOT_PATH,SEP),r'{}lotto_number{}chapter_0.csv'.format(ROOT_PATH,SEP)\n",
    "data_frame = readFileData(DATA_LABELS,FILE_PATH)\n",
    "#data_frame[[\"num_1\",\"num_2\",\"num_3\",\"num_4\",\"num_5\",\"num_6\",\"num_7\"]]=\\\n",
    "#data_frame.loc[:,\"num_1\",\"num_2\",\"num_3\",\"num_4\",\"num_5\",\"num_6\",\"num_7\"].astype(\"float64\")\n",
    "#날짜 데이터 밀리세컨드 변형\n",
    "data_frame[\"year_date\"]=pd.to_datetime(data_frame[\"year_date\"])\n",
    "data_frame[\"millis\"]=data_frame[\"year_date\"].astype(\"int64\")//10**9\n",
    "print(data_frame[[\"year_date\",\"millis\"]])\n",
    "print(data_frame.head())\n",
    "print(datetime.strptime(\"2025-08-09\",\"%Y-%m-%d\").timestamp())#이번주 날짜 데이터 millis와 동일성 확인\n",
    "# 시간데이터의 연결성을 위해서 각 번호를 시간 데이터로 나누기\n",
    "# 시계열 데이터의 연결성을 위해서 1년 동안의 추출 순서를 적용하기\n"
   ]
  },
  {
   "cell_type": "code",
   "execution_count": 28,
   "id": "7afc559e-37e1-4b82-a2ca-c0efc785d6e8",
   "metadata": {
    "colab": {
     "base_uri": "https://localhost:8080/"
    },
    "executionInfo": {
     "elapsed": 23,
     "status": "ok",
     "timestamp": 1754618745946,
     "user": {
      "displayName": "ᅵᅵ (ll)",
      "userId": "00950168834296392189"
     },
     "user_tz": -540
    },
    "id": "7afc559e-37e1-4b82-a2ca-c0efc785d6e8",
    "outputId": "1dc933e6-a1d8-42e1-f88d-0ff2e7fa8efb"
   },
   "outputs": [
    {
     "name": "stdout",
     "output_type": "stream",
     "text": [
      "   year_date  num_1  num_2  num_3  num_4  num_5  num_6  num_7      millis\n",
      "0 2025-08-02      4     15     17     23     27     36     31  1754092800\n",
      "1 2025-07-26      1     13     21     25     28     31     22  1753488000\n",
      "2 2025-07-19      8     10     14     20     33     41     28  1752883200\n",
      "3 2025-07-12      6     12     18     37     40     41      3  1752278400\n",
      "4 2025-07-05      3     16     18     24     40     44     21  1751673600\n"
     ]
    }
   ],
   "source": [
    "#데이터 분석 단계\n",
    "print(data_frame.head())"
   ]
  },
  {
   "cell_type": "code",
   "execution_count": 29,
   "id": "4df1077b-29cd-46db-b038-554684114854",
   "metadata": {
    "colab": {
     "base_uri": "https://localhost:8080/",
     "height": 1000
    },
    "executionInfo": {
     "elapsed": 871,
     "status": "ok",
     "timestamp": 1754618746820,
     "user": {
      "displayName": "ᅵᅵ (ll)",
      "userId": "00950168834296392189"
     },
     "user_tz": -540
    },
    "id": "4df1077b-29cd-46db-b038-554684114854",
    "jupyter": {
     "source_hidden": true
    },
    "outputId": "5a4872c7-4eac-4489-e71c-bf65fdf88a62"
   },
   "outputs": [
    {
     "name": "stdout",
     "output_type": "stream",
     "text": [
      "year_date    0\n",
      "num_1        0\n",
      "num_2        0\n",
      "num_3        0\n",
      "num_4        0\n",
      "num_5        0\n",
      "num_6        0\n",
      "num_7        0\n",
      "millis       0\n",
      "dtype: int64\n"
     ]
    },
    {
     "data": {
      "image/png": "[encoded data removed]",
      "text/plain": [
       "<Figure size 640x480 with 7 Axes>"
      ]
     },
     "metadata": {},
     "output_type": "display_data"
    },
    {
     "data": {
      "image/png": "[encoded data removed]",
      "text/plain": [
       "<Figure size 640x480 with 7 Axes>"
      ]
     },
     "metadata": {},
     "output_type": "display_data"
    },
    {
     "name": "stdout",
     "output_type": "stream",
     "text": [
      "                 year_date        num_1        num_2        num_3  \\\n",
      "count                 1183  1183.000000  1183.000000  1183.000000   \n",
      "mean   2014-04-05 00:00:00     6.743872    13.076923    19.930685   \n",
      "min    2002-12-07 00:00:00     1.000000     2.000000     3.000000   \n",
      "25%    2008-08-05 12:00:00     3.000000     8.000000    14.000000   \n",
      "50%    2014-04-05 00:00:00     5.000000    12.000000    19.000000   \n",
      "75%    2019-12-03 12:00:00    10.000000    18.000000    25.000000   \n",
      "max    2025-08-02 00:00:00    35.000000    37.000000    40.000000   \n",
      "std                    NaN     5.393280     6.866506     7.417015   \n",
      "\n",
      "             num_4       num_5        num_6        num_7        millis  \n",
      "count  1183.000000  1183.00000  1183.000000  1183.000000  1.183000e+03  \n",
      "mean     26.205410    32.85038    39.469992    22.312764  1.396656e+09  \n",
      "min       5.000000     9.00000    17.000000     1.000000  1.039219e+09  \n",
      "25%      21.000000    28.00000    37.000000    11.000000  1.217938e+09  \n",
      "50%      26.000000    34.00000    41.000000    22.000000  1.396656e+09  \n",
      "75%      32.000000    38.00000    44.000000    33.000000  1.575374e+09  \n",
      "max      43.000000    44.00000    45.000000    45.000000  1.754093e+09  \n",
      "std       7.551128     6.82836     5.312779    13.149353  2.066281e+08  \n"
     ]
    }
   ],
   "source": [
    "print(data_frame.isna().sum())#결측히 확인\n",
    "plt.subplot(1,7,1)\n",
    "plt.boxplot(data_frame[\"num_1\"])\n",
    "plt.subplot(1,7,2)\n",
    "plt.boxplot(data_frame[\"num_2\"])\n",
    "plt.subplot(1,7,3)\n",
    "plt.boxplot(data_frame[\"num_3\"])\n",
    "plt.subplot(1,7,4)\n",
    "plt.boxplot(data_frame[\"num_4\"])\n",
    "plt.subplot(1,7,5)\n",
    "plt.boxplot(data_frame[\"num_5\"])\n",
    "plt.subplot(1,7,6)\n",
    "plt.boxplot(data_frame[\"num_6\"])\n",
    "plt.subplot(1,7,7)\n",
    "plt.boxplot(data_frame[\"num_7\"])\n",
    "plt.show()\n",
    "plt.subplot(1,7,1)\n",
    "plt.hist(data_frame[\"num_1\"])\n",
    "plt.subplot(1,7,2)\n",
    "plt.hist(data_frame[\"num_2\"])\n",
    "plt.subplot(1,7,3)\n",
    "plt.hist(data_frame[\"num_3\"])\n",
    "plt.subplot(1,7,4)\n",
    "plt.hist(data_frame[\"num_4\"])\n",
    "plt.subplot(1,7,5)\n",
    "plt.hist(data_frame[\"num_5\"])\n",
    "plt.subplot(1,7,6)\n",
    "plt.hist(data_frame[\"num_6\"])\n",
    "plt.subplot(1,7,7)\n",
    "plt.hist(data_frame[\"num_7\"])\n",
    "plt.show()\n",
    "#데이터 분포 확인 결과 이상치 데이터 없음\n",
    "#로또 데이터 이므로 1사분위 데이터와 4사분위 데이터는 유지한다.\n",
    "print(data_frame.describe())"
   ]
  },
  {
   "cell_type": "code",
   "execution_count": 30,
   "id": "801ae0cf-cd84-4322-9753-dc0f62707471",
   "metadata": {
    "colab": {
     "base_uri": "https://localhost:8080/"
    },
    "executionInfo": {
     "elapsed": 29,
     "status": "ok",
     "timestamp": 1754618746855,
     "user": {
      "displayName": "ᅵᅵ (ll)",
      "userId": "00950168834296392189"
     },
     "user_tz": -540
    },
    "id": "801ae0cf-cd84-4322-9753-dc0f62707471",
    "outputId": "76d36d6d-f3b5-48b9-d072-94368479719d"
   },
   "outputs": [
    {
     "name": "stdout",
     "output_type": "stream",
     "text": [
      "(1183, 8)\n",
      "1754092800\n",
      "1753488000\n",
      "원본숫자: [         4         15         17         23         27         36\n",
      "         31 1754092800]\n",
      "(1183, 8)\n",
      "[[2.28038106e-01 8.55142898e-01 9.69161951e-01 1.31121911e+00\n",
      "  1.53925722e+00 2.05234295e+00 1.76729532e+00 1.75409280e+09]\n",
      " [5.70291898e-02 7.41379468e-01 1.19761299e+00 1.42572975e+00\n",
      "  1.59681731e+00 1.76790488e+00 1.25464218e+00 1.75348800e+09]]\n",
      "복원숫자: [ 4. 15. 17. 23. 27. 36. 31.]\n"
     ]
    }
   ],
   "source": [
    "def recoverData(data_arr,millis_sec):#(unit numpy_arr,milli second)\n",
    "    millis_sec /= (10**8)\n",
    "    return data_arr*millis_sec\n",
    "\n",
    "# 데이터 전처리\n",
    "raw_data = np.array(\\\n",
    "    data_frame.loc[:,[\"num_1\",\"num_2\",\"num_3\",\"num_4\",\\\n",
    "                      \"num_5\",\"num_6\",\"num_7\",\"millis\"]])\n",
    "print(raw_data.shape)\n",
    "#데이터 스케일링(각숫자에 시간데이터를 활용하여 스케일링)\n",
    "confirm_sec = raw_data[0][7]\n",
    "print(raw_data[0][7])\n",
    "print(raw_data[1][7])\n",
    "print(\"원본숫자:\",raw_data[0])\n",
    "raw_data = np.array([np.concatenate([raw_data[i][:7] /(raw_data[i][7]/(10**8)),\\\n",
    "                                     [raw_data[i][7]]]) \\\n",
    "                                         for i in range(len(raw_data))])\n",
    "\n",
    "print(raw_data.shape)\n",
    "print(raw_data[:2])\n",
    "#데이터 복구 확인\n",
    "print(\"복원숫자:\",recoverData(raw_data[0][:7],raw_data[0][7]))"
   ]
  },
  {
   "cell_type": "code",
   "execution_count": 31,
   "id": "1c1ab8bb-e5ab-4635-a21b-abc136286508",
   "metadata": {
    "colab": {
     "base_uri": "https://localhost:8080/"
    },
    "executionInfo": {
     "elapsed": 8,
     "status": "ok",
     "timestamp": 1754618746877,
     "user": {
      "displayName": "ᅵᅵ (ll)",
      "userId": "00950168834296392189"
     },
     "user_tz": -540
    },
    "id": "1c1ab8bb-e5ab-4635-a21b-abc136286508",
    "outputId": "58965a61-2cec-4fab-e322-64af15d5d3e6"
   },
   "outputs": [
    {
     "name": "stdout",
     "output_type": "stream",
     "text": [
      "[2.28038106e-01 8.55142898e-01 9.69161951e-01 1.31121911e+00\n",
      " 1.53925722e+00 2.05234295e+00 1.76729532e+00 1.75409280e+09]\n",
      "[5.70291898e-02 7.41379468e-01 1.19761299e+00 1.42572975e+00\n",
      " 1.59681731e+00 1.76790488e+00 1.25464218e+00 1.75348800e+09]\n",
      "[2.28038106e-01 8.55142898e-01 9.69161951e-01 1.31121911e+00\n",
      " 1.53925722e+00 2.05234295e+00 1.76729532e+00 1.75409280e+09]\n",
      "[5.70291898e-02 7.41379468e-01 1.19761299e+00 1.42572975e+00\n",
      " 1.59681731e+00 1.76790488e+00 1.25464218e+00 1.75348800e+09]\n"
     ]
    }
   ],
   "source": [
    "# lls = np.array([1,2,3,4,5])/3\n",
    "# print(lls)\n",
    "#데이터 리버싱\n",
    "print(raw_data[0])#1\n",
    "print(raw_data[1])#2\n",
    "raw_data=raw_data[::-1]\n",
    "print(raw_data[-1])#1 은 동일 값\n",
    "print(raw_data[-2])#2 은 동일 값"
   ]
  },
  {
   "cell_type": "code",
   "execution_count": 32,
   "id": "4d774f96-c50c-40f8-9650-25cd9bfc0a08",
   "metadata": {
    "colab": {
     "base_uri": "https://localhost:8080/"
    },
    "executionInfo": {
     "elapsed": 6,
     "status": "ok",
     "timestamp": 1754618746886,
     "user": {
      "displayName": "ᅵᅵ (ll)",
      "userId": "00950168834296392189"
     },
     "user_tz": -540
    },
    "id": "4d774f96-c50c-40f8-9650-25cd9bfc0a08",
    "outputId": "cbb476b1-b0f6-4a50-f020-261ce7b8e70b"
   },
   "outputs": [
    {
     "name": "stdout",
     "output_type": "stream",
     "text": [
      "(1183, 8)\n",
      "(1135, 48, 8) (1135, 8)\n"
     ]
    }
   ],
   "source": [
    "#시계열 데이터 생성\n",
    "print(raw_data.shape)\n",
    "x_data,y_data = createData_rnn(raw_data,TIME_STEP)\n",
    "print(x_data.shape,y_data.shape)\n"
   ]
  },
  {
   "cell_type": "code",
   "execution_count": 33,
   "id": "afaeae18-f514-4dab-97dc-d4cd646f8d96",
   "metadata": {
    "executionInfo": {
     "elapsed": 2,
     "status": "ok",
     "timestamp": 1754618746890,
     "user": {
      "displayName": "ᅵᅵ (ll)",
      "userId": "00950168834296392189"
     },
     "user_tz": -540
    },
    "id": "afaeae18-f514-4dab-97dc-d4cd646f8d96"
   },
   "outputs": [],
   "source": [
    "#최종 데이터 확인\n",
    "# print(x_data[-1])\n",
    "# print(y_data[-1])"
   ]
  },
  {
   "cell_type": "code",
   "execution_count": 34,
   "id": "444f4263-5b16-437f-a638-7b6a186926e4",
   "metadata": {
    "executionInfo": {
     "elapsed": 238,
     "status": "ok",
     "timestamp": 1754618747141,
     "user": {
      "displayName": "ᅵᅵ (ll)",
      "userId": "00950168834296392189"
     },
     "user_tz": -540
    },
    "id": "444f4263-5b16-437f-a638-7b6a186926e4"
   },
   "outputs": [],
   "source": [
    "#시계열 LSTM 모델 구현\n",
    "import random as r\n",
    "r.seed(1111)#랜덤시드 고정\n",
    "np.random.seed(1111)\n",
    "tf.random.set_seed(1111)\n",
    "from tensorflow.keras import Sequential,Input\n",
    "from tensorflow.keras.layers import Dense, LSTM,Bidirectional,Dropout\n",
    "if TRAIN_MODEL==\"LSTM\":\n",
    "    inp=Input((TIME_STEP,7))\n",
    "if TRAIN_MODEL == \"CONV\":\n",
    "    inp=Input((TIME_STEP,7,1))\n",
    "conv1 = tf.keras.layers.ConvLSTM1D(16,3,strides=1,\\\n",
    "                           padding='same',return_sequences=True)\n",
    "conv2 = tf.keras.layers.ConvLSTM1D(64,5,strides=1,\\\n",
    "                           padding='same',return_sequences=True)\n",
    "conv3 = tf.keras.layers.ConvLSTM1D(128,5,strides=1,padding='same')\n",
    "flat = tf.keras.layers.Flatten()\n",
    "ls_model=Sequential()\n",
    "ls_model.add(inp)\n",
    "if TRAIN_MODEL==\"LSTM\":\n",
    "    ls_model.add(Bidirectional(LSTM(16, return_sequences=True)))#양방향 LSTM\n",
    "    ls_model.add(LSTM(32,return_sequences=True))\n",
    "    ls_model.add(LSTM(64))\n",
    "if TRAIN_MODEL == \"CONV\":\n",
    "    ls_model.add(conv1)\n",
    "    ls_model.add(conv2)\n",
    "    ls_model.add(conv3)\n",
    "    ls_model.add(flat)\n",
    "ls_model.add(Dense(512,activation=\"relu\"))\n",
    "ls_model.add(Dropout(0.3))\n",
    "ls_model.add(Dense(256,activation=\"relu\"))\n",
    "ls_model.add(Dropout(0.3))\n",
    "ls_model.add(Dense(64,activation=\"relu\"))\n",
    "ls_model.add(Dense(32,activation=\"relu\"))\n",
    "ls_model.add(Dense(7,activation=\"linear\"))\n",
    "ls_model.compile(loss=\"mse\",optimizer=\"adam\",metrics=[\"mae\"])\n"
   ]
  },
  {
   "cell_type": "code",
   "execution_count": 35,
   "id": "a8fc64d6-9c2b-4c3f-bb4f-a98488d19bdc",
   "metadata": {
    "colab": {
     "base_uri": "https://localhost:8080/"
    },
    "executionInfo": {
     "elapsed": 116596,
     "status": "ok",
     "timestamp": 1754618863739,
     "user": {
      "displayName": "ᅵᅵ (ll)",
      "userId": "00950168834296392189"
     },
     "user_tz": -540
    },
    "id": "a8fc64d6-9c2b-4c3f-bb4f-a98488d19bdc",
    "outputId": "890527ef-8343-485c-940e-5c88bdbb898e"
   },
   "outputs": [
    {
     "name": "stdout",
     "output_type": "stream",
     "text": [
      "(1135, 48, 7)\n",
      "(1135, 7)\n",
      ".0(0.38)\n",
      ".10(0.23).20(0.22).30(0.23).40(0.22).50(0.23)"
     ]
    }
   ],
   "source": [
    "print(x_data[:,:,:7].shape)\n",
    "print(y_data[:,:7].shape)\n",
    "#조기종료\n",
    "es = tf.keras.callbacks.EarlyStopping(\n",
    "    monitor='val_loss',\n",
    "    patience=50,\n",
    "    restore_best_weights=True,\n",
    ")\n",
    "if TRAIN_MODEL == \"CONV\":\n",
    "    x_data = x_data.reshape(x_data.shape[0],x_data.shape[1],x_data.shape[2],1)\n",
    "#훈련 프린팅\n",
    "class Printcb(tf.keras.callbacks.Callback):\n",
    "    def on_epoch_end(self,epoch,logs):\n",
    "        if epoch%10==0:\n",
    "            print(f\".{epoch}({logs['val_loss']:.2f})\",end=\"\")\n",
    "        if epoch%100==0:\n",
    "            print()\n",
    "pcb = Printcb()\n",
    "fhist = ls_model.fit(x_data[:,:,:7],y_data[:,:7],epochs=400,\\\n",
    "             validation_split=0.2,batch_size=len(x_data)//20,\\\n",
    "                     verbose=False,callbacks=[pcb,es])"
   ]
  },
  {
   "cell_type": "code",
   "execution_count": 36,
   "id": "a84b585b-1ab1-4673-867a-1b75794e8b0e",
   "metadata": {
    "colab": {
     "base_uri": "https://localhost:8080/",
     "height": 469
    },
    "executionInfo": {
     "elapsed": 266,
     "status": "ok",
     "timestamp": 1754618863990,
     "user": {
      "displayName": "ᅵᅵ (ll)",
      "userId": "00950168834296392189"
     },
     "user_tz": -540
    },
    "id": "a84b585b-1ab1-4673-867a-1b75794e8b0e",
    "outputId": "1c3f56be-123e-420d-f23e-f2a6c484ee87"
   },
   "outputs": [
    {
     "name": "stdout",
     "output_type": "stream",
     "text": [
      "dict_keys(['loss', 'mae', 'val_loss', 'val_mae'])\n"
     ]
    },
    {
     "data": {
      "image/png": "[encoded data removed]",
      "text/plain": [
       "<Figure size 640x480 with 2 Axes>"
      ]
     },
     "metadata": {},
     "output_type": "display_data"
    }
   ],
   "source": [
    "#산점도 그래프로 정답 일치성 확인\n",
    "print(fhist.history.keys())\n",
    "plt.subplot(1,2,1)\n",
    "plt.plot(fhist.history[\"loss\"],label=\"train_mse\")\n",
    "plt.plot(fhist.history[\"val_loss\"],label=\"valid_mse\")\n",
    "plt.title(\"MSE LOSS\")\n",
    "plt.legend()\n",
    "plt.subplot(1,2,2)\n",
    "plt.plot(fhist.history[\"mae\"],label=\"train_mae\")\n",
    "plt.plot(fhist.history[\"val_mae\"],label=\"valid_mae\")\n",
    "plt.title(\"MAE LOSS\")\n",
    "plt.legend()\n",
    "plt.show()"
   ]
  },
  {
   "cell_type": "code",
   "execution_count": 37,
   "id": "d3cd9427-a44a-4f33-b790-d51241a4ae1e",
   "metadata": {
    "colab": {
     "base_uri": "https://localhost:8080/"
    },
    "executionInfo": {
     "elapsed": 5104,
     "status": "ok",
     "timestamp": 1754618869098,
     "user": {
      "displayName": "ᅵᅵ (ll)",
      "userId": "00950168834296392189"
     },
     "user_tz": -540
    },
    "id": "d3cd9427-a44a-4f33-b790-d51241a4ae1e",
    "outputId": "d90b32ef-3376-41bf-a861-acc2162be87d"
   },
   "outputs": [
    {
     "name": "stdout",
     "output_type": "stream",
     "text": [
      "\u001b[1m10/10\u001b[0m \u001b[32m━━━━━━━━━━━━━━━━━━━━\u001b[0m\u001b[37m\u001b[0m \u001b[1m1s\u001b[0m 92ms/step\n",
      "각 필드별 예측오차율 1.08% , -1.16% , -0.83% , 0.84% , -0.07% , 0.29% , 6.09%\n",
      "전체예측오차율 평균: 5.47%\n"
     ]
    }
   ],
   "source": [
    "#정확률 산정\n",
    "def acc_ratecalc(y_pred,y_true,tmillis):\n",
    "    if y_pred.shape!=y_true.shape:\n",
    "        return f\"정답과 예측의 모양이 틀립니다. 정답:{y_true.shape} 예측:{y_pred.shape}\"\n",
    "    if len(y_pred)!=len(tmillis):\n",
    "        return f\"예측파일과 시간밀리타임의 수량이 동일하지 않습니다. 예측수량:{len(y_pred)}\"\n",
    "    pred_res = np.array([np.round(recoverData(y_pred[i],test_millis[i])) for i in range(len(y_pred))])\n",
    "    real_res = np.array([recoverData(y_true[i],test_millis[i]) for i in range(len(y_true))])\n",
    "    p_sum = np.sum(pred_res,axis=-1)\n",
    "    r_sum = np.sum(real_res,axis=-1)\n",
    "    npercent = (p_sum/r_sum-1) * 100\n",
    "    p_col_sum = np.sum(pred_res,axis=0)\n",
    "    r_col_sum = np.sum(real_res,axis=0)\n",
    "    col_percent = (p_col_sum/r_col_sum-1) * 100\n",
    "    pstr = \" , \".join([f\"{col:.2f}%\" for col in col_percent])\n",
    "    print(\"각 필드별 예측오차율\",pstr)\n",
    "    print(\"전체예측오차율 평균:\",f\"{npercent.mean():.2f}%\")\n",
    "    import pickle\n",
    "    with open(f\"{ROOT_PATH}{SEP}lotto_number{SEP}{TRAIN_MODEL}_err_{TIME_STEP}\",\"wb\") as fp:\n",
    "        pickle.dump([pstr,npercent.mean()],fp)\n",
    "    \n",
    "\n",
    "randIx = np.random.randint(0,len(x_data),300)\n",
    "x_test = x_data[randIx]\n",
    "y_test = y_data[randIx][:,:7]\n",
    "test_millis = y_data[randIx][:,7]\n",
    "y_pred = ls_model.predict(x_test[:,:,:7])\n",
    "acc_ratecalc(y_pred,y_test,test_millis)\n",
    "\n",
    "# print(y_pred.shape)\n",
    "# pred_res = recoverData(y_pred[1],test_millis[1])\n",
    "# real_res = recoverData(y_test[1][:7],test_millis[1])\n",
    "# # #recoverData(data_arr,millis_sec):#(numpy_arr,milli second)  preproc_millis\n",
    "# print(\"예측 번호 : \",pred_res)\n",
    "# print(\"실제 번호 : \",real_res)"
   ]
  },
  {
   "cell_type": "code",
   "execution_count": 38,
   "id": "228c4c70-d5c2-484c-9ef8-a7c2f382e0ac",
   "metadata": {
    "executionInfo": {
     "elapsed": 96,
     "status": "ok",
     "timestamp": 1754618869211,
     "user": {
      "displayName": "ᅵᅵ (ll)",
      "userId": "00950168834296392189"
     },
     "user_tz": -540
    },
    "id": "228c4c70-d5c2-484c-9ef8-a7c2f382e0ac"
   },
   "outputs": [],
   "source": [
    "ls_model.save(r\"{}lotto_number{}{}_model_{}.keras\".format(ROOT_PATH,SEP,TRAIN_MODEL,TIME_STEP))"
   ]
  },
  {
   "cell_type": "code",
   "execution_count": 39,
   "id": "a50a9420-8d17-4994-a775-2fcb59dead07",
   "metadata": {
    "colab": {
     "base_uri": "https://localhost:8080/"
    },
    "executionInfo": {
     "elapsed": 1328,
     "status": "ok",
     "timestamp": 1754618870544,
     "user": {
      "displayName": "ᅵᅵ (ll)",
      "userId": "00950168834296392189"
     },
     "user_tz": -540
    },
    "id": "a50a9420-8d17-4994-a775-2fcb59dead07",
    "outputId": "5ba59f0c-a20f-401c-8a3c-8ce978d4c686"
   },
   "outputs": [
    {
     "name": "stdout",
     "output_type": "stream",
     "text": [
      "(583, 8)\n",
      "[[2.28038106e-01 8.55142898e-01 9.69161951e-01 1.31121911e+00\n",
      "  1.53925722e+00 2.05234295e+00 1.76729532e+00 1.75409280e+09]\n",
      " [5.70291898e-02 7.41379468e-01 1.19761299e+00 1.42572975e+00\n",
      "  1.59681731e+00 1.76790488e+00 1.25464218e+00 1.75348800e+09]]\n",
      "복원숫자: [ 4. 15. 17. 23. 27. 36. 31.]\n",
      "재구성: (1, 48, 7)\n",
      "\u001b[1m1/1\u001b[0m \u001b[32m━━━━━━━━━━━━━━━━━━━━\u001b[0m\u001b[37m\u001b[0m \u001b[1m0s\u001b[0m 51ms/step\n",
      "(1, 7)\n",
      "1725667200.0\n",
      "1754665200.0\n",
      "[[ 7. 14. 20. 27. 34. 40. 24.]]\n"
     ]
    }
   ],
   "source": [
    "#이번주 로또 번호 예측\n",
    "#1. 데이터 생성하기\n",
    "LAST_PATH = r\"{}lotto_number{}last_recent.csv\".format(ROOT_PATH,SEP)\n",
    "recent_df = readFileData(DATA_LABELS,[LAST_PATH])\n",
    "recent_df[\"year_date\"]=pd.to_datetime(recent_df[\"year_date\"])\n",
    "recent_df[\"millis\"]=recent_df[\"year_date\"].astype(\"int64\")//10**9\n",
    "\n",
    "recent_data = np.array(\\\n",
    "    recent_df.loc[:,[\"num_1\",\"num_2\",\"num_3\",\"num_4\",\\\n",
    "                      \"num_5\",\"num_6\",\"num_7\",\"millis\"]])\n",
    "recent_data = np.array([np.concatenate([recent_data[i][:7] /(recent_data[i][7]/(10**8)),\\\n",
    "                                     [recent_data[i][7]]]) \\\n",
    "                                         for i in range(len(recent_data))])\n",
    "print(recent_data.shape)\n",
    "print(recent_data[:2])\n",
    "recent_data=recent_data[::-1]\n",
    "print(\"복원숫자:\",recoverData(recent_data[-1][:7],recent_data[-1][7]))\n",
    "x_pred,y_pred = createData_rnn(recent_data,TIME_STEP)\n",
    "# print(\"x:\",x_pred[-1])\n",
    "# print(\"y:\",y_pred[-1])\n",
    "#예측 문제 데이터 재구성(맨 앞 1개 삭제 맨 뒤 1개는 y데이터 추가)\n",
    "x_next_lotto = np.append(x_pred[-1][1:],y_pred[-1]).reshape(1,TIME_STEP,-1)\n",
    "if TRAIN_MODEL == \"CONV\":\n",
    " x_next_lotto = x_next_lotto.reshape(x_next_lotto.shape[0],\\\n",
    "                                     x_next_lotto.shape[1],x_next_lotto.shape[2],1)\n",
    "\n",
    "print(\"재구성:\",x_next_lotto[:,:,:-1].shape)\n",
    "y_next_lotto = ls_model.predict(x_next_lotto[:,:,:-1])\n",
    "print(y_next_lotto.shape)\n",
    "#이번주 날짜 밀리세컨\n",
    "y_next_millis = datetime.strptime(\"2025-08-09\",\"%Y-%m-%d\").timestamp()\n",
    "print(x_next_lotto[0][0][7])\n",
    "print(y_next_millis)\n",
    "rec_lotto_number=recoverData(y_next_lotto,y_next_millis)\n",
    "print(np.round(rec_lotto_number))\n"
   ]
  },
  {
   "cell_type": "code",
   "execution_count": null,
   "id": "cd485b5c-c578-475a-9c39-59036aae1ea0",
   "metadata": {
    "executionInfo": {
     "elapsed": 4,
     "status": "ok",
     "timestamp": 1754618870550,
     "user": {
      "displayName": "ᅵᅵ (ll)",
      "userId": "00950168834296392189"
     },
     "user_tz": -540
    },
    "id": "cd485b5c-c578-475a-9c39-59036aae1ea0"
   },
   "outputs": [],
   "source": []
  }
 ],
 "metadata": {
  "accelerator": "GPU",
  "colab": {
   "gpuType": "T4",
   "provenance": [
    {
     "file_id": "1vdv0XjLJ_QHCOcSp0cHjBEsTr9UX1RVF",
     "timestamp": 1754534649709
    }
   ]
  },
  "kernelspec": {
   "display_name": "Python 3 (ipykernel)",
   "language": "python",
   "name": "python3"
  },
  "language_info": {
   "codemirror_mode": {
    "name": "ipython",
    "version": 3
   },
   "file_extension": ".py",
   "mimetype": "text/x-python",
   "name": "python",
   "nbconvert_exporter": "python",
   "pygments_lexer": "ipython3",
   "version": "3.10.11"
  }
 },
 "nbformat": 4,
 "nbformat_minor": 5
}
